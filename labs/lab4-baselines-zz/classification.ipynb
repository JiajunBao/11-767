{
  "cells": [
    {
      "cell_type": "code",
      "execution_count": null,
      "metadata": {
        "colab": {
          "base_uri": "https://localhost:8080/"
        },
        "id": "HFjyd37l0JSd",
        "outputId": "f4be0d90-be0c-4426-ad00-cdee86737f63"
      },
      "outputs": [
        {
          "name": "stdout",
          "output_type": "stream",
          "text": [
            "Drive already mounted at /content/drive; to attempt to forcibly remount, call drive.mount(\"/content/drive\", force_remount=True).\n",
            "/content/drive/MyDrive/11767-jb\n"
          ]
        }
      ],
      "source": [
        "# Code to set up the assignment\n",
        "from google.colab import drive\n",
        "drive.mount('/content/drive')\n",
        "%cd /content/drive/MyDrive/11767-jb\n"
      ]
    },
    {
      "cell_type": "code",
      "execution_count": null,
      "metadata": {
        "colab": {
          "base_uri": "https://localhost:8080/"
        },
        "id": "vHKGN_do00zz",
        "outputId": "59608857-91e1-4d79-9e1f-f9df3a583f5d"
      },
      "outputs": [
        {
          "name": "stdout",
          "output_type": "stream",
          "text": [
            "Requirement already satisfied: beautifulsoup4 in /usr/local/lib/python3.7/dist-packages (from -r requirements.txt (line 1)) (4.6.3)\n",
            "Requirement already satisfied: torch==1.8.0 in /usr/local/lib/python3.7/dist-packages (from -r requirements.txt (line 2)) (1.8.0)\n",
            "Requirement already satisfied: torchvision in /usr/local/lib/python3.7/dist-packages (from -r requirements.txt (line 3)) (0.9.0)\n",
            "Requirement already satisfied: opencv-python in /usr/local/lib/python3.7/dist-packages (from -r requirements.txt (line 4)) (4.1.2.30)\n",
            "Requirement already satisfied: numpy in /usr/local/lib/python3.7/dist-packages (from torch==1.8.0->-r requirements.txt (line 2)) (1.19.5)\n",
            "Requirement already satisfied: typing-extensions in /usr/local/lib/python3.7/dist-packages (from torch==1.8.0->-r requirements.txt (line 2)) (3.7.4.3)\n",
            "Requirement already satisfied: pillow>=4.1.1 in /usr/local/lib/python3.7/dist-packages (from torchvision->-r requirements.txt (line 3)) (7.1.2)\n"
          ]
        }
      ],
      "source": [
        "!pip3 install -r requirements.txt"
      ]
    },
    {
      "cell_type": "code",
      "execution_count": null,
      "metadata": {
        "id": "z_GIU5wdCVl8"
      },
      "outputs": [],
      "source": [
        "%load_ext autoreload\n",
        "%autoreload 2\n",
        "from src.data import MaskImageDataset, DataConnector\n",
        "from src.model import *\n",
        "\n",
        "from src.trainer import Trainer"
      ]
    },
    {
      "cell_type": "code",
      "execution_count": null,
      "metadata": {
        "colab": {
          "base_uri": "https://localhost:8080/"
        },
        "id": "gBELs32jPrxf",
        "outputId": "673a339d-cf5a-4652-b5ba-b2b3217cc71a"
      },
      "outputs": [
        {
          "name": "stdout",
          "output_type": "stream",
          "text": [
            "label counts: \n",
            "1    3232\n",
            "0     717\n",
            "2     123\n",
            "Name: label, dtype: int64\n"
          ]
        }
      ],
      "source": [
        "dc = DataConnector(\"data/annotations\", \"data/images\")\n",
        "tr, dev, test = dc.triplet_split(balanced=False)"
      ]
    },
    {
      "cell_type": "code",
      "execution_count": null,
      "metadata": {
        "colab": {
          "base_uri": "https://localhost:8080/"
        },
        "id": "TgFcHVMjUVvG",
        "outputId": "e343d5c4-e58a-4005-8f13-dae6b707b47a"
      },
      "outputs": [
        {
          "name": "stderr",
          "output_type": "stream",
          "text": [
            "Using cache found in /root/.cache/torch/hub/pytorch_vision_v0.10.0\n"
          ]
        },
        {
          "name": "stdout",
          "output_type": "stream",
          "text": [
            "total number of batches: 104\n",
            "epoch 1 - (0/104) train loss: 1.1724565029144287\n",
            "epoch 1 - (10/104) train loss: 0.4776826798915863\n",
            "epoch 1 - (20/104) train loss: 0.3974562883377075\n",
            "epoch 1 - (30/104) train loss: 0.584596574306488\n",
            "epoch 1 - (40/104) train loss: 0.37518712878227234\n",
            "epoch 1 - (50/104) train loss: 0.42661792039871216\n",
            "epoch 1 - (60/104) train loss: 0.14989201724529266\n",
            "epoch 1 - (70/104) train loss: 0.19053851068019867\n",
            "epoch 1 - (80/104) train loss: 0.3450508415699005\n",
            "epoch 1 - (90/104) train loss: 0.11635091155767441\n",
            "epoch 1 - (100/104) train loss: 0.0683794915676117\n",
            "dev loss: 3.1547834798693657\n",
            "epoch 2 - (0/104) train loss: 0.18323178589344025\n",
            "epoch 2 - (10/104) train loss: 0.32805871963500977\n",
            "epoch 2 - (20/104) train loss: 0.20141012966632843\n",
            "epoch 2 - (30/104) train loss: 0.027066582813858986\n",
            "epoch 2 - (40/104) train loss: 1.2820630073547363\n",
            "epoch 2 - (50/104) train loss: 0.3658963143825531\n",
            "epoch 2 - (60/104) train loss: 0.1286730170249939\n",
            "epoch 2 - (70/104) train loss: 0.12467001378536224\n",
            "epoch 2 - (80/104) train loss: 0.07405567169189453\n",
            "epoch 2 - (90/104) train loss: 0.10717661678791046\n",
            "epoch 2 - (100/104) train loss: 0.14866548776626587\n",
            "dev loss: 1.8038962371647358\n",
            "epoch 3 - (0/104) train loss: 0.18304862082004547\n",
            "epoch 3 - (10/104) train loss: 0.08292342722415924\n",
            "epoch 3 - (20/104) train loss: 0.06721097975969315\n",
            "epoch 3 - (30/104) train loss: 0.18416538834571838\n",
            "epoch 3 - (40/104) train loss: 0.2678743302822113\n",
            "epoch 3 - (50/104) train loss: 0.10490485280752182\n",
            "epoch 3 - (60/104) train loss: 0.04842414706945419\n",
            "epoch 3 - (70/104) train loss: 0.17711468040943146\n",
            "epoch 3 - (80/104) train loss: 0.032421622425317764\n",
            "epoch 3 - (90/104) train loss: 0.1988385170698166\n",
            "epoch 3 - (100/104) train loss: 0.13542747497558594\n",
            "dev loss: 2.2052174657583237\n",
            "epoch 4 - (0/104) train loss: 0.048214834183454514\n",
            "epoch 4 - (10/104) train loss: 0.09334976226091385\n",
            "epoch 4 - (20/104) train loss: 0.00950557366013527\n",
            "epoch 4 - (30/104) train loss: 0.0869193747639656\n",
            "epoch 4 - (40/104) train loss: 0.025690549984574318\n",
            "epoch 4 - (50/104) train loss: 0.017413198947906494\n",
            "epoch 4 - (60/104) train loss: 0.03244227543473244\n",
            "epoch 4 - (70/104) train loss: 0.41639474034309387\n",
            "epoch 4 - (80/104) train loss: 0.27725839614868164\n",
            "epoch 4 - (90/104) train loss: 0.13470588624477386\n",
            "epoch 4 - (100/104) train loss: 0.23900824785232544\n",
            "dev loss: 2.6287301713600755\n",
            "epoch 5 - (0/104) train loss: 0.009812370873987675\n",
            "epoch 5 - (10/104) train loss: 0.05333973467350006\n",
            "epoch 5 - (20/104) train loss: 0.057896267622709274\n",
            "epoch 5 - (30/104) train loss: 0.025994064286351204\n",
            "epoch 5 - (40/104) train loss: 0.027271486818790436\n",
            "epoch 5 - (50/104) train loss: 0.07963129132986069\n",
            "epoch 5 - (60/104) train loss: 0.24314554035663605\n",
            "epoch 5 - (70/104) train loss: 0.012999807484447956\n",
            "epoch 5 - (80/104) train loss: 0.012475885450839996\n",
            "epoch 5 - (90/104) train loss: 0.01917034201323986\n",
            "epoch 5 - (100/104) train loss: 0.10794465243816376\n",
            "dev loss: 3.2649968080222607\n",
            "epoch 6 - (0/104) train loss: 0.039872944355010986\n",
            "epoch 6 - (10/104) train loss: 0.10537678748369217\n",
            "epoch 6 - (20/104) train loss: 0.00950315035879612\n",
            "epoch 6 - (30/104) train loss: 0.06814442574977875\n",
            "epoch 6 - (40/104) train loss: 0.05865771323442459\n",
            "epoch 6 - (50/104) train loss: 0.1394539773464203\n",
            "epoch 6 - (60/104) train loss: 0.05505603179335594\n",
            "epoch 6 - (70/104) train loss: 0.05026119947433472\n",
            "epoch 6 - (80/104) train loss: 0.01623205840587616\n",
            "epoch 6 - (90/104) train loss: 0.02375909872353077\n",
            "epoch 6 - (100/104) train loss: 0.07376215606927872\n",
            "dev loss: 2.435451604425907\n",
            "epoch 7 - (0/104) train loss: 0.014019698835909367\n",
            "epoch 7 - (10/104) train loss: 0.12611024081707\n",
            "epoch 7 - (20/104) train loss: 0.01594795100390911\n",
            "epoch 7 - (30/104) train loss: 0.02392321079969406\n",
            "epoch 7 - (40/104) train loss: 0.06278008967638016\n",
            "epoch 7 - (50/104) train loss: 0.02187572419643402\n",
            "epoch 7 - (60/104) train loss: 0.026969853788614273\n",
            "epoch 7 - (70/104) train loss: 0.0037954477593302727\n",
            "epoch 7 - (80/104) train loss: 0.04618489369750023\n",
            "epoch 7 - (90/104) train loss: 0.1505291759967804\n",
            "epoch 7 - (100/104) train loss: 0.05856265127658844\n",
            "dev loss: 1.8512371145188808\n",
            "epoch 8 - (0/104) train loss: 0.04036930203437805\n",
            "epoch 8 - (10/104) train loss: 0.22721704840660095\n",
            "epoch 8 - (20/104) train loss: 0.09604067355394363\n",
            "epoch 8 - (30/104) train loss: 0.13151399791240692\n",
            "epoch 8 - (40/104) train loss: 0.2648982107639313\n",
            "epoch 8 - (50/104) train loss: 0.13724225759506226\n",
            "epoch 8 - (60/104) train loss: 0.08003570139408112\n",
            "epoch 8 - (70/104) train loss: 0.07163210958242416\n",
            "epoch 8 - (80/104) train loss: 0.0427076555788517\n",
            "epoch 8 - (90/104) train loss: 0.01831691525876522\n",
            "epoch 8 - (100/104) train loss: 0.1494576334953308\n",
            "dev loss: 2.6499280463904142\n",
            "epoch 9 - (0/104) train loss: 0.03991648554801941\n",
            "epoch 9 - (10/104) train loss: 0.012808460742235184\n",
            "epoch 9 - (20/104) train loss: 0.09550748765468597\n",
            "epoch 9 - (30/104) train loss: 0.10403020679950714\n",
            "epoch 9 - (40/104) train loss: 0.012633085250854492\n",
            "epoch 9 - (50/104) train loss: 0.015295111574232578\n",
            "epoch 9 - (60/104) train loss: 0.03599115088582039\n",
            "epoch 9 - (70/104) train loss: 0.06229487434029579\n",
            "epoch 9 - (80/104) train loss: 0.046413395553827286\n",
            "epoch 9 - (90/104) train loss: 0.31685870885849\n",
            "epoch 9 - (100/104) train loss: 0.051184140145778656\n",
            "dev loss: 2.0915262643247843\n",
            "epoch 10 - (0/104) train loss: 0.09590233862400055\n",
            "epoch 10 - (10/104) train loss: 0.05444066971540451\n",
            "epoch 10 - (20/104) train loss: 0.015747305005788803\n",
            "epoch 10 - (30/104) train loss: 0.10448845475912094\n",
            "epoch 10 - (40/104) train loss: 0.04753733426332474\n",
            "epoch 10 - (50/104) train loss: 0.010549069382250309\n",
            "epoch 10 - (60/104) train loss: 0.044966693967580795\n",
            "epoch 10 - (70/104) train loss: 0.03136192262172699\n",
            "epoch 10 - (80/104) train loss: 0.01018788293004036\n",
            "epoch 10 - (90/104) train loss: 0.005262652412056923\n",
            "epoch 10 - (100/104) train loss: 0.15157528221607208\n",
            "dev loss: 2.8600617088377476\n"
          ]
        }
      ],
      "source": [
        "\n",
        "mobilenet_model, transform = get_mobilenet_v2()\n",
        "tr_dataset = MaskImageDataset(\"data/images\", tr, transform=transform)\n",
        "dev_dataset = MaskImageDataset(\"data/images\", dev, transform=transform)\n",
        "\n",
        "t = Trainer()\n",
        "mobilenet_model, (min_loss, mobilenet_model_best), train_loss, dev_loss = t.train(mobilenet_model, tr_dataset, dev_dataset)"
      ]
    },
    {
      "cell_type": "code",
      "execution_count": null,
      "metadata": {
        "id": "muYMs4F7npAH"
      },
      "outputs": [],
      "source": [
        "\n",
        "mobilenet_model, transform = get_resnet()\n",
        "tr_dataset = MaskImageDataset(\"data/images\", tr, transform=transform)\n",
        "dev_dataset = MaskImageDataset(\"data/images\", dev, transform=transform)\n",
        "\n",
        "t = Trainer()\n",
        "mobilenet_model, (min_loss, mobilenet_model_best), train_loss, dev_loss = t.train(mobilenet_model, tr_dataset, dev_dataset)"
      ]
    }
  ],
  "metadata": {
    "accelerator": "GPU",
    "colab": {
      "collapsed_sections": [],
      "name": "11767-lab4.ipynb",
      "provenance": []
    },
    "kernelspec": {
      "display_name": "Python 3",
      "name": "python3"
    },
    "language_info": {
      "name": "python"
    }
  },
  "nbformat": 4,
  "nbformat_minor": 0
}
